{
 "cells": [
  {
   "cell_type": "code",
   "execution_count": 1,
   "metadata": {},
   "outputs": [],
   "source": [
    "import numpy as np"
   ]
  },
  {
   "cell_type": "code",
   "execution_count": 8,
   "metadata": {},
   "outputs": [],
   "source": [
    "def print_exam_scores_for_letter_grades(get_exam_score):\n",
    "    print('Final exam score ranges for each letter grade')\n",
    "    display_tol = 5\n",
    "    grade_letters = [('D', .60, .69), ('C-', .70, .71), ('C', .71, .79), ('C+', .79, .80), ('B-', .80, .81), ('B', .81, .89), ('B+', .89, .90), ('A-', .90, .91), ('A', .91, .99), ('A+', .99, 1.0)]\n",
    "    for letter, a, b in reversed(grade_letters):\n",
    "        exam_score_lower = round( get_exam_score(a) * 100, 4 )\n",
    "        exam_score_upper = round( get_exam_score(b) * 100, 4 )\n",
    "        if exam_score_lower <= (100 + display_tol) and exam_score_upper >= (0 - display_tol):\n",
    "            print(f'{letter}: [{exam_score_lower}%, {exam_score_upper }%)')"
   ]
  },
  {
   "cell_type": "code",
   "execution_count": 9,
   "metadata": {},
   "outputs": [],
   "source": [
    "# grade = base + exam_score * weight\n",
    "# exam_score = (grade - base) / weight\n",
    "def calculate_exam_score(grade, total_no_final, exam_weight):\n",
    "    return (grade - total_no_final) / exam_weight"
   ]
  },
  {
   "cell_type": "code",
   "execution_count": 12,
   "metadata": {},
   "outputs": [
    {
     "name": "stdout",
     "output_type": "stream",
     "text": [
      "Total WITHOUT final and participation/EC = 0.7914\n",
      "Final exam score ranges for each letter grade\n",
      "B+: [98.6%, 108.6%)\n",
      "B: [18.6%, 98.6%)\n",
      "B-: [8.6%, 18.6%)\n",
      "C+: [-1.4%, 8.6%)\n",
      "C: [-81.4%, -1.4%)\n",
      "Total WITH final and participation/EC = 0.8519\n",
      "Final exam score ranges for each letter grade\n",
      "A: [58.1%, 138.1%)\n",
      "A-: [48.1%, 58.1%)\n",
      "B+: [38.1%, 48.1%)\n",
      "B: [-41.9%, 38.1%)\n"
     ]
    }
   ],
   "source": [
    "# CS 233\n",
    "total_no_final_233 = .7914 # Final Percentage (Official)\n",
    "particpation_233 = .025 # assume max 2.5% participation\n",
    "potential_ec_233 = .0228 + .0077 + .005\n",
    "total_no_final_w_ec_part_233 = total_no_final_233 + particpation_233 + potential_ec_233\n",
    "final_weight_233 = .1\n",
    "# Final exam scores need w/o participation and EC\n",
    "print(f'Total WITHOUT final and participation/EC = {total_no_final_233}')\n",
    "print_exam_scores_for_letter_grades(lambda x : calculate_exam_score(x, total_no_final_233, final_weight_233))\n",
    "# Final exam scores need w/ 2.5% participation and EC (3 to 5% MAX)\n",
    "print(f'Total WITH final and participation/EC = {total_no_final_w_ec_part_233}')\n",
    "print_exam_scores_for_letter_grades(lambda x : calculate_exam_score(x, total_no_final_w_ec_part_233, final_weight_233))\n"
   ]
  },
  {
   "cell_type": "code",
   "execution_count": null,
   "metadata": {},
   "outputs": [],
   "source": []
  },
  {
   "cell_type": "code",
   "execution_count": null,
   "metadata": {},
   "outputs": [],
   "source": []
  }
 ],
 "metadata": {
  "interpreter": {
   "hash": "ef563d4ef83178dca000e2fbc095378730957af26db468492d443ddd35b099f0"
  },
  "kernelspec": {
   "display_name": "Python 3.9.12 ('base')",
   "language": "python",
   "name": "python3"
  },
  "language_info": {
   "codemirror_mode": {
    "name": "ipython",
    "version": 3
   },
   "file_extension": ".py",
   "mimetype": "text/x-python",
   "name": "python",
   "nbconvert_exporter": "python",
   "pygments_lexer": "ipython3",
   "version": "3.9.12"
  },
  "orig_nbformat": 4
 },
 "nbformat": 4,
 "nbformat_minor": 2
}
